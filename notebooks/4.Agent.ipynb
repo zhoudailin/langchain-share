{
 "cells": [
  {
   "metadata": {},
   "cell_type": "markdown",
   "source": [
    "### Agent\n",
    "AI Agent 算是 AI 界当前最热门的话题之一，其实这个概念应该在很早之前就已经有了，但是至今也没有一个完整的定义究竟什么才能算一个Agent。所以这里引用下维基百科的定义\n",
    "> 智能代理（英语：intelligent agent），或译为智能主体。在人工智能领域，智能代理指一个可以观察周遭环境并作出行动以达致目标的自主实体。它通常是指（但不一定是）一个软件程序。“智能代理”是目前人工智能研究的一个核心概念，统御和联系着各个子领域的研究。\n",
    "\n",
    "在维基的定义中，写到Agent可以观察周遭环境，这个其实有点虚，因为对于人来说观察都是通过去看，去听进行观察的，而对于NLP模型来说，肯定是没有这样的能力的。所以我这里不给Agent下定义，直接来一起反观一下，之前我们写的各种应用究竟解决了啥，还有啥不能解决。\n",
    "\n",
    "最初我们知道LLM，它可以看成一个输入是字符串输出是字符串的黑盒(不考虑多模态的情况)。在输入端，我们通过模板字符串实现了Prompt的复用。在输出端，我们通过各种OutputParser实现了输出格式的控制。然后我们通过langchain提供的RAG，实现了外挂知识，让模型在不微调的情况下也可以拥有领域知识。理想状态下，只要有对应的知识提供，模型可以回答你任何问题了。但是我们依然不能让模型完成以下的事情：\n",
    "* 让模型告诉我下周某个地方的天气，并根据天气以及可能的交通状况推荐旅游规划。\n",
    "* 让模型帮我写一个完全可靠的代码\n",
    "* 让模型帮我做一道回锅肉？(好像有点离谱了)\n",
    "以上这些要求和之前的需求不一样的在于，不止需要模型能思考，能给出答案，还需要模型能通过使用工具帮你完成任务。你可以稍微险隘得理解Agent和普通LLM应用在于能不能\"使用工具\"。\n",
    "\n",
    "所以我们先来聊聊所谓的*工具*。对于程序抽象来说，工具其实无非就是一次函数调用，它可能是通过一次restful或者rpc这种形式调用的，也可能是通过子进程的方式调用的。它也可以是任何东西，比如查询下周某个地方的天气，比如将下载好的某个图片保存到你磁盘的某个位置，凡此种种都可以是一个工具。比如回到我们的第一个问题，一个模型要根据某个地方下周的天气情况帮我们规划推荐旅游的地方，它是肯定不知道下周那个地方天气情况如何的。所以这时候你需要提供给它一个接口，通过这个接口它可以查询到下周是什么天气，从这个接口拿到天气结果后，它会继续分析，这个天气的接口在langchain中就是一个Tool。有了这个接口之后，模型会拿到天气情况，然后继续询问之前的问题，在这个过程中，我们能注意到，这个是一个多轮对话，因此在多轮对话的情形下，每一轮对话的时候模型怎么知道之前对话的内容是啥，也就是它如何能记住之前我们聊了啥，这就是Memory组件需要完成的。在有了Tool和Memory之后，我们还要思考，如何让LLM去调用Tool。如果是我们通过程序去调用交给它，那其实决策者本质还是我们，不是模型。因此我们要引导模型让它去决策什么时候应该调用哪个Tool，是否需要调用这个Tool，调用这个Tool之后得到的结果又如何处理，这就是Agent组件的作用。\n",
    "\n",
    "之前有人总结，作为一个Agent，需要有规划，记忆，行动和工具这四个方面的能力。而Tool，Memory和Agent(其中Agent包括Agent和AgentExcutor)就分别对应了工具，记忆，规划和行动这四个方面。\n",
    "\n",
    "#### Tools\n",
    "对于Agent来说，需要完成的任务肯定是各式各样的，因此langchain提供了大量的可以直接使用的Tool。但是和其他组件不同，即便如此，也很容易出现自己想要的Tool没有提供的情况，因此自定义Tool的需求应该是非常常见，我们这里介绍一两个langchain给定的Tool，然后尝试去自定义一个Tool。\n",
    "首先比如我要去查询一下下周某个地方的天气，我们可以通过某些专业的天气平台提供的api去获取，也可以直接通过搜索引擎去查询。一般来说通过专门的天气平台获取的数据干扰比较小，通过搜索引擎获取的数据可能干扰比较大，但是搜索引擎可以查询的数据是任意的(虽然可能结果并没啥营养)。\n",
    "##### SearchAPI\n",
    "我们经常需要拿着一个问题去问搜索引擎，因此搜索引擎是一个比较重要和常用的Tool，langchain也内置了不少的搜索引擎，但是可惜很多因为各种原因不能直接访问。SearchAPI是其中较少的可以直接访问到的"
   ],
   "id": "5e5d22566c988c0"
  },
  {
   "metadata": {
    "ExecuteTime": {
     "end_time": "2024-06-25T12:20:13.003343Z",
     "start_time": "2024-06-25T12:20:07.747649Z"
    }
   },
   "cell_type": "code",
   "source": [
    "# SearchAPI.ts\n",
    "from langchain_community.utilities import SearchApiAPIWrapper\n",
    "import os\n",
    "import getpass\n",
    "\n",
    "if os.environ.get('SEARCHAPI_API_KEY') is None:\n",
    "    os.environ['SEARCHAPI_API_KEY'] = getpass.getpass()\n",
    "\n",
    "search = SearchApiAPIWrapper()\n",
    "search.run('下周成都天气如何')"
   ],
   "id": "ce927b82c5d725f6",
   "outputs": [
    {
     "data": {
      "text/plain": [
       "'25日（今天）. 多云转阵雨. 32/21℃. <3级 · 26日（明天）. 阵雨转多云. 22/19℃. <3级 · 27日（后天）. 阴转阵雨. 27/19℃. <3级 · 28日（周五）. 阴. 28/19℃. <3级 · 29日（周六 ...\\n周二（2日） 晴 35℃/23℃ 东南风转东北风 <3级 · 周三（3日） 多云转雨 34℃/24℃ 西北风转东北风 <3级 · 周四（4日） 雨 33℃/25℃ 东北风转北风 <3级 · 周五（5日） 雨 35℃/24℃ ...\\n今天(06-25). 多云转阵雨. 21/32℃ ; 明天(06-26). 阵雨转多云. 19/22℃ ; 周四(06-27). 阴转阵雨. 19/27℃ ; 周五(06-28). 阴. 19/28℃ ; 周六(06-29). 多云. 21/32℃.\\n成都未来15天天气预报 ; 星期六. 2024-06-29. 多云. 21℃ ～ 32℃. 微风<3级 ; 星期日. 2024-06-30. 多云转阵雨. 22℃ ～ 33℃. 微风<3级 ; 星期一. 2024-07-01. 多云. 23℃ ～ 35℃.\\n30日（周日）. 多云转阵雨. 33/22℃. <3级. 1日（周一）.\\n未来30天将有25天下雨，最高温35°（07月01日，07月02日，07月05日），最低温19°（06月26日，06月27日，06月28日）。\\n成都往日天气预报. 6月23日 周日 多云 24°/33°; 6月22日 周六 小雨 24°/34°; 6月21日 周五 小雨 23°/31°; 6月20日 周四 多云转中雨 23°/30°; 6月19日 周三 小雨转晴 ...\\n周三. 6/26. 72° 66°. 幾場陣雨. 大致多雲. 60%. 周四. 6/27. 81° 66°. 多雲. 零星有雨和細雨. 25%. 周五. 6/28. 82° 66°. 多雲. 多雲. 25%. 周六. 6/29. 90° 70°. 大致 ...\\n今天(05-23). 多云转晴. 21/34℃ ; 明天(05-24). 多云转中雨. 23/34℃ ; 周六(05-25). 小雨转阴. 20/31℃ ; 周日(05-26). 多云. 21/31℃ ; 周一(05-27). 多云转小雨. 20/30℃.\\n成都24小时天气预报 ; 明天: 06/26: 阴转小雨 ; 后天: 06/27: 小雨 ; 周五: 06/28: 小雨 ; 周六: 06/29: 阴转多云 ; 周日: 06/30: 多云转阴 ...'"
      ]
     },
     "execution_count": 3,
     "metadata": {},
     "output_type": "execute_result"
    }
   ],
   "execution_count": 3
  },
  {
   "metadata": {},
   "cell_type": "markdown",
   "source": [
    "#### Python REPL\n",
    "我们经常希望模型能用代码帮我们解决一个问题，但是实际情况大部分都是模型会给你一个可能没啥大问题，但是很多小问题的代码。如果我们希望模型在给我们代码之前，先把代码运行下，如果没有语法错误再给我们，如果有错误就继续重新修改直到没有错误。这时候就需要一个运行环境。Python的REPL就是这么一个Tool。"
   ],
   "id": "44d4c4667aa4c64d"
  },
  {
   "metadata": {},
   "cell_type": "markdown",
   "source": "",
   "id": "d29b70fec3a331b0"
  },
  {
   "metadata": {
    "ExecuteTime": {
     "end_time": "2024-06-25T13:44:17.010041Z",
     "start_time": "2024-06-25T13:44:17.005507Z"
    }
   },
   "cell_type": "code",
   "source": [
    "from langchain_community.utilities import PythonREPL\n",
    "\n",
    "python_repl = PythonREPL()\n",
    "python_repl.run('print([x for x in range(10)])')"
   ],
   "id": "90aba535c6e709e6",
   "outputs": [
    {
     "data": {
      "text/plain": [
       "'[0, 1, 2, 3, 4, 5, 6, 7, 8, 9]\\n'"
      ]
     },
     "execution_count": 7,
     "metadata": {},
     "output_type": "execute_result"
    }
   ],
   "execution_count": 7
  },
  {
   "metadata": {},
   "cell_type": "markdown",
   "source": "可以看出来，以上工具其实都是函数。需要包装为Tool才能被Agent自动调用。因为Agent需要自己思考什么时候调用哪个函数，那么其实你就需要将函数的描述给到Agent",
   "id": "a67b2778c4050be5"
  },
  {
   "metadata": {},
   "cell_type": "markdown",
   "source": "",
   "id": "b9996bf210ec22e"
  },
  {
   "metadata": {},
   "cell_type": "code",
   "outputs": [],
   "execution_count": null,
   "source": [
    "from langchain.agents import Tool, AgentExecutor\n",
    "from langchain_community.utilities import SearchApiAPIWrapper\n",
    "import os\n",
    "import getpass\n",
    "\n",
    "if os.environ.get('SEARCHAPI_API_KEY') is None:\n",
    "    os.environ['SEARCHAPI_API_KEY'] = getpass.getpass()\n",
    "\n",
    "search = SearchApiAPIWrapper()\n",
    "\n",
    "search_tool = Tool(\n",
    "    name=\"search_tool\",\n",
    "    func=search.run,\n",
    "    description=\"你可以用它调用搜索引擎进行询问\",\n",
    ")"
   ],
   "id": "39733e36876a0284"
  },
  {
   "metadata": {},
   "cell_type": "markdown",
   "source": "可以看出，其实要自定义一个Tool还是很简单的，你只需要提供对应的函数，工具名称和描述即可。langchain除了提供了很多的[Tool](https://python.langchain.com/v0.1/docs/integrations/tools/)可以使用之外，还将功能比较类似的一些Tool抽象成了[ToolKit](https://python.langchain.com/v0.1/docs/integrations/toolkits/)",
   "id": "5de3b7b037854a5c"
  },
  {
   "metadata": {},
   "cell_type": "markdown",
   "source": [
    "#### Agent\n",
    "有了Tool之后，我们可以编排Agent了。首先来说，Agent的实现有很多种，在langchain中也实现了好几种[Agent](https://python.langchain.com/v0.1/docs/modules/agents/agent_types/)。其中比较比较出名的是ToolCalling和ReAct。前者支持的特性比较多，比如多输入Tool，并行的函数调用等，但是有个很大的要求，就是模型本身必须能有函数调用能力。ReAct的话不支持多输入Tool，也不能并行函数调用，但是可以支持所有函数。为了通用性，我们这里以ReAct这种Agent作为例子，对其他Agent类型感兴趣可以去上面链接看文档。\n",
    "\n",
    "##### ReAct\n",
    "ReAct沦为发表于2022年底，当时还没有ChatGPT。论文主要阐述了一种结合推理(Reson)和行动(Acting)的语言模型应用范式。旨在通过交替生成推理轨迹和特定任务的动作，使得大型语言模型（LLMs）在解决多样化的语言推理和决策任务时能够实现更深层次的协同作用。\n",
    "\n",
    "<center>\n",
    "  <img src=\"images/ReAct.png\">\n",
    "</center>\n",
    "\n",
    "从ReAct的提示词来看，它会引导模型进行多次思考，每次思考都会去考虑能不能得到最终结论。如果不能就会从给定的Tool里面选择一个合适的去完成一个Action。当这个Action完成后，它又会思考目前能不能得出最终结论，如果不能，它会继续进行上面的循环。文字其实读起来有点抽象，我们写一个ReAct的Agent来看看吧"
   ],
   "id": "b91c68e94e1244c5"
  },
  {
   "metadata": {
    "ExecuteTime": {
     "end_time": "2024-06-26T05:21:50.579697Z",
     "start_time": "2024-06-26T05:21:05.292114Z"
    }
   },
   "cell_type": "code",
   "source": [
    "# SimpleAgent.ts\n",
    "from langchain.agents import create_react_agent, AgentExecutor, load_tools, Tool\n",
    "from langchain import hub\n",
    "from langchain_community.utilities import SearchApiAPIWrapper\n",
    "from libs.llm.qwen import qwen\n",
    "import os\n",
    "import getpass\n",
    "\n",
    "if os.environ.get('SEARCHAPI_API_KEY') is None:\n",
    "    os.environ['SEARCHAPI_API_KEY'] = getpass.getpass()\n",
    "\n",
    "search = SearchApiAPIWrapper()\n",
    "search_tool = Tool(\n",
    "    name=\"search_tool\",\n",
    "    func=search.run,\n",
    "    description=\"你可以用它调用搜索引擎进行询问\",\n",
    ")\n",
    "\n",
    "tools = load_tools(['llm-math', 'searchapi'], llm=qwen)\n",
    "# hwchase17/react\n",
    "agent = create_react_agent(llm=qwen, tools=tools + tools, prompt=hub.pull(\"captain/react\"))\n",
    "agent_executor = AgentExecutor(agent=agent, tools=tools, verbose=True, handle_parsing_errors=True)\n",
    "# agent_executor.invoke({\"input\": \"中，日，韩2000年生育率的平均值是多少？\"})\n",
    "agent_executor.invoke({\"input\": \"根据成都下周天气推荐一个旅游的攻略\"})"
   ],
   "id": "82c5cf059d74f4cf",
   "outputs": [
    {
     "name": "stdout",
     "output_type": "stream",
     "text": [
      "\n",
      "\n",
      "\u001B[1m> Entering new AgentExecutor chain...\u001B[0m\n",
      "\u001B[32;1m\u001B[1;3m 需要查询成都下周的天气预报，然后根据天气情况推荐相应的旅游攻略\n",
      "Action: searchapi\n",
      "Action Input: \"成都下周天气\" + \"旅游攻略建议\"\n",
      "\u001B[0m\u001B[33;1m\u001B[1;3m成都冬天會下雪嗎？ 成都的冬天相對較冷，但下雪的機會相對較低。偶爾在冬季可能會出現輕微的降雪，但通常不會積雪。在冬季旅行成都時，建議攜帶保暖衣物 ...\n",
      "... 成都一周天气预报，成都蓝天预报，成都天气预报，成都40日天气预报，还提供成都的生活指数、健康指数、交通指数、旅游指数，及时发布成都气象预警信号、各类气象资讯。\n",
      "4月29日至5月3日，成都的天气云量较多，也有雨水出没。成都最喜欢晚上下雨了，建议出行时记得带上一把雨伞，以备不时之需。\n",
      "四季分明的气候赋予了这座城市丰富的旅游资源，每年都有不同的季节适合前来探访。让我们一起揭开成都旅游的最佳季节之谜。 每年的三月和四月，成都进入了 ...\n",
      "2024成都旅游攻略,介绍了成都旅游景点、线路、美食、住宿、地图等成都旅游攻略信息,了解成都旅游等自由行攻略信息来马蜂窝旅游攻略网。\n",
      "姐妹们成都3天2晚懒人版攻略来啦!当成都，一个以“慢”闻名的城市。在这里，你可以漫步在杜甫草堂，感受诗人的墨香，也可以在宽窄巷子，寻找着旧的时光.\n",
      "... 成都一周天气预报，成都蓝天预报，成都天气预报，成都40日天气预报，还提供成都的生活指数、健康指数、交通指数、旅游指数，及时发布成都气象预警信号、各类气象资讯。\n",
      "*成都比较潮湿，经常下雨，出行建议随身带上伞。 *要注意旅途安全，旅游有时会经过一些危险区域景点，如陡坡密林、悬崖蹊径、急流深洞等，在这些危险区域，要尽量结伴 ...\n",
      "七月的成都，天气宜人，平均气温在25-30摄氏度之间，是避暑的好去处。此时的成都，既有夏日的热情，又有秋天般的舒适，是体验成都悠闲生活方式的最佳时期 ...\n",
      "希望这份成都3天2夜的旅游攻略能够帮到大家 希望大家去成都玩的开心！ - 图2：成都不建议去的景点 ...\u001B[0m\u001B[32;1m\u001B[1;3m 下周成都的天气预计会有较多云和雨水，尤其是晚上。考虑到天气因素，制定旅游攻略时需要准备应对雨水的措施。\n",
      "Final Answer: 根据预测，下周成都的天气以多云为主，期间伴有雨水，特别是晚间可能有降雨。因此，为保证旅游体验，我们为您推荐如下旅游攻略：\n",
      "\n",
      "1. 时间安排：尽量选择室内活动或不太受天气影响的景点，例如参观博物馆（如四川博物院）、文化古迹（如武侯祠、杜甫草堂），以及室内的休闲娱乐场所（如宽窄巷子的茶馆、酒吧）。\n",
      "\n",
      "2. 准备用品：务必携带雨具，如折叠伞或轻便雨衣，以便随时应对雨水；此外，因成都湿度较大，穿着舒适的防水鞋和便于更换的衣物也是必要的。\n",
      "\n",
      "3. 餐饮体验：成都美食丰富多样，雨天不妨品尝一下火锅、串串香等地道小吃，既能避雨又可享受美食。\n",
      "\n",
      "4. 安排合理行程：鉴于晚上下雨的可能性较大，可以在白天安排较远距离的户外游玩项目，而晚上则选择市内交通便利的地方用餐和休息。\n",
      "\n",
      "总之，在制定下周成都旅游攻略时，要做好应对阴雨天气的准备，灵活调整行程安排，确保旅游体验不受太大影响。祝您旅途愉快！\u001B[0m\n",
      "\n",
      "\u001B[1m> Finished chain.\u001B[0m\n"
     ]
    },
    {
     "data": {
      "text/plain": [
       "{'input': '根据成都下周天气推荐一个旅游的攻略',\n",
       " 'output': '根据预测，下周成都的天气以多云为主，期间伴有雨水，特别是晚间可能有降雨。因此，为保证旅游体验，我们为您推荐如下旅游攻略：\\n\\n1. 时间安排：尽量选择室内活动或不太受天气影响的景点，例如参观博物馆（如四川博物院）、文化古迹（如武侯祠、杜甫草堂），以及室内的休闲娱乐场所（如宽窄巷子的茶馆、酒吧）。\\n\\n2. 准备用品：务必携带雨具，如折叠伞或轻便雨衣，以便随时应对雨水；此外，因成都湿度较大，穿着舒适的防水鞋和便于更换的衣物也是必要的。\\n\\n3. 餐饮体验：成都美食丰富多样，雨天不妨品尝一下火锅、串串香等地道小吃，既能避雨又可享受美食。\\n\\n4. 安排合理行程：鉴于晚上下雨的可能性较大，可以在白天安排较远距离的户外游玩项目，而晚上则选择市内交通便利的地方用餐和休息。\\n\\n总之，在制定下周成都旅游攻略时，要做好应对阴雨天气的准备，灵活调整行程安排，确保旅游体验不受太大影响。祝您旅途愉快！'}"
      ]
     },
     "execution_count": 7,
     "metadata": {},
     "output_type": "execute_result"
    }
   ],
   "execution_count": 7
  }
 ],
 "metadata": {
  "kernelspec": {
   "display_name": "Python 3",
   "language": "python",
   "name": "python3"
  },
  "language_info": {
   "codemirror_mode": {
    "name": "ipython",
    "version": 2
   },
   "file_extension": ".py",
   "mimetype": "text/x-python",
   "name": "python",
   "nbconvert_exporter": "python",
   "pygments_lexer": "ipython2",
   "version": "2.7.6"
  }
 },
 "nbformat": 4,
 "nbformat_minor": 5
}

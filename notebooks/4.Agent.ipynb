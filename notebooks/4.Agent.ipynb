{
 "cells": [
  {
   "metadata": {},
   "cell_type": "markdown",
   "source": [
    "### Agent\n",
    "AI Agent 算是 AI 界当前最热门的话题之一，其实这个概念应该在很早之前就已经有了，但是至今也没有一个完整的定义究竟什么才能算一个Agent。所以这里引用下维基百科的定义\n",
    "> 智能代理（英语：intelligent agent），或译为智能主体。在人工智能领域，智能代理指一个可以观察周遭环境并作出行动以达致目标的自主实体。它通常是指（但不一定是）一个软件程序。“智能代理”是目前人工智能研究的一个核心概念，统御和联系着各个子领域的研究。\n",
    "\n",
    "在维基的定义中，写到Agent可以观察周遭环境，这个其实有点虚，因为对于人来说观察都是通过去看，去听进行观察的，而对于NLP模型来说，肯定是没有这样的能力的。所以我这里不给Agent下定义，直接来一起反观一下，之前我们写的各种应用究竟解决了啥，还有啥不能解决。"
   ],
   "id": "5e5d22566c988c0"
  }
 ],
 "metadata": {
  "kernelspec": {
   "display_name": "Python 3",
   "language": "python",
   "name": "python3"
  },
  "language_info": {
   "codemirror_mode": {
    "name": "ipython",
    "version": 2
   },
   "file_extension": ".py",
   "mimetype": "text/x-python",
   "name": "python",
   "nbconvert_exporter": "python",
   "pygments_lexer": "ipython2",
   "version": "2.7.6"
  }
 },
 "nbformat": 4,
 "nbformat_minor": 5
}
